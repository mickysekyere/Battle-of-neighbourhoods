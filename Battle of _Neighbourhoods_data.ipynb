{
 "cells": [
  {
   "cell_type": "markdown",
   "metadata": {
    "collapsed": true
   },
   "source": [
    "# Peer graded assignment"
   ]
  },
  {
   "cell_type": "markdown",
   "metadata": {},
   "source": [
    "## Capstone Project: Battle of the neighbourhoods"
   ]
  },
  {
   "cell_type": "markdown",
   "metadata": {},
   "source": [
    "## Introduction\n"
   ]
  },
  {
   "cell_type": "markdown",
   "metadata": {},
   "source": [
    "### Description of the problem and background\n",
    "\n",
    "The population of New York City has grown considerably over the last decades. New York is very diverse. It consist of a large and ethnically diverse group of people. New York City is home to over 18 million people. With it's diverse culture, comes diverse way of living for the people of New York. Notably, the differents kinds of lifestyles, music genres, dressing, movies, foods, languages, etc.\n",
    "\n",
    "There are many resturants in New york City, each beloning to different categories like Chinese , Indian , French etc. The idea of this project is to help my client who is planning to open a chinese restaurant in New York chose the right location by providing data about the different types restaurant already existing in each neighborhood as well as the competitors already present in the same regions. Since the New York demography is so big, my client needs deeper insight from available data in other to decide where best to establish the restaurant in order to receive the maximum clientele. So as part of this project , we will list and visualize all major parts of New York City that has great chinese resturants. I will also compare neighbourhoods where customer gives the best tips and ratings about  chinese restaurant."
   ]
  },
  {
   "cell_type": "markdown",
   "metadata": {},
   "source": [
    "## Data"
   ]
  },
  {
   "cell_type": "markdown",
   "metadata": {},
   "source": [
    "### Data Sources\n",
    "\n",
    "New York City data  contains many of list Boroughs, Neighborhoods along with their latitude and longitude.\n",
    "Data source : https://cocl.us/new_york_dataset. It was obtained from the from the Applied Data science Capstone course for ibm.\n",
    "Description : This data set contains the required information. And we will use this data set to explore various neighborhoods of new york city and available Chinese resturants in each of the neighborhoods.\n",
    "\n",
    "Data source : Fousquare API Description.\n",
    "Description : By using this api we will get all the venues in each neighborhood. We can filter these venues to get only Chinese resturants.\n",
    "\n",
    "GeoSpace data Data source : https://data.cityofnewyork.us/City-Government/Borough-Boundaries/tqmj-j8zm \n",
    "Description : By using this geo space data we will get the New york Borough boundaries that will help us visualize choropleth map.\n",
    "\n",
    "\n",
    "\n",
    "### Sample queries that can be answered by the data\n",
    "\n",
    "1. What is best location in New York City for Chinese Cuisine?\n",
    "2. Which areas have already existing Chinese Resturant Market?\n",
    "3. Which areas lack Chinese Resturants?\n",
    "4. Which is the best place to site a Chinese restaurant?\n",
    "\n",
    "\n",
    "\n",
    "\n",
    "### Steps that will be used to solve the problem\n",
    "\n",
    "1. Collect the new york city data from https://cocl.us/new_york_dataset\n",
    "2. Using FourSquare API we will find all venues for each neighborhood.\n",
    "3. Filter out all venues that are Indian Resturants.\n",
    "4. Find rating , tips and like count for each Indian Resturants using FourSquare API.\n",
    "5. Using rating for each resturant , we will sort that data.\n",
    "6. Visualize the Ranking of neighborhoods using folium library\n"
   ]
  },
  {
   "cell_type": "code",
   "execution_count": null,
   "metadata": {},
   "outputs": [],
   "source": []
  }
 ],
 "metadata": {
  "kernelspec": {
   "display_name": "Python 3.6",
   "language": "python",
   "name": "python3"
  },
  "language_info": {
   "codemirror_mode": {
    "name": "ipython",
    "version": 3
   },
   "file_extension": ".py",
   "mimetype": "text/x-python",
   "name": "python",
   "nbconvert_exporter": "python",
   "pygments_lexer": "ipython3",
   "version": "3.6.9"
  }
 },
 "nbformat": 4,
 "nbformat_minor": 1
}
