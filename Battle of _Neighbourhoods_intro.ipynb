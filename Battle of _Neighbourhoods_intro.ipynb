{
 "cells": [
  {
   "cell_type": "markdown",
   "metadata": {
    "collapsed": true
   },
   "source": [
    "# Peer graded assignment"
   ]
  },
  {
   "cell_type": "markdown",
   "metadata": {},
   "source": [
    "## Capstone Project: Battle of the neighbourhoods"
   ]
  },
  {
   "cell_type": "markdown",
   "metadata": {},
   "source": [
    "## Introduction\n"
   ]
  },
  {
   "cell_type": "markdown",
   "metadata": {},
   "source": [
    "### Description of the problem and background\n",
    "\n",
    "The population of New York City has grown considerably over the last decades. New York is very diverse. It consist of a large and ethnically diverse group of people. New York City is home to over 18 million people. With it's diverse culture, comes diverse way of living for the people of New York. Notably, the differents kinds of lifestyles, music genres, dressing, movies, foods, languages, etc.\n",
    "\n",
    "There are many resturants in New york City, each beloning to different categories like Chinese , Indian , French etc. The idea of this project is to help my client who is planning to open a chinese restaurant in New York chose the right location by providing data about the different types restaurant already existing in each neighborhood as well as the competitors already present in the same regions. Since the New York demography is so big, my client needs deeper insight from available data in other to decide where best to establish the restaurant in order to receive the maximum clientele. So as part of this project , we will list and visualize all major parts of New York City that has great chinese resturants. I will also compare neighbourhoods where customer gives the best tips and ratings about  chinese restaurant."
   ]
  },
  {
   "cell_type": "code",
   "execution_count": null,
   "metadata": {},
   "outputs": [],
   "source": []
  }
 ],
 "metadata": {
  "kernelspec": {
   "display_name": "Python 3.6",
   "language": "python",
   "name": "python3"
  },
  "language_info": {
   "codemirror_mode": {
    "name": "ipython",
    "version": 3
   },
   "file_extension": ".py",
   "mimetype": "text/x-python",
   "name": "python",
   "nbconvert_exporter": "python",
   "pygments_lexer": "ipython3",
   "version": "3.6.9"
  }
 },
 "nbformat": 4,
 "nbformat_minor": 1
}
